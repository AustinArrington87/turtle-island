{
 "cells": [
  {
   "cell_type": "code",
   "execution_count": 91,
   "metadata": {
    "collapsed": true
   },
   "outputs": [],
   "source": [
    "from PIL import Image \n",
    "from IPython.display import display \n",
    "import random\n",
    "import json"
   ]
  },
  {
   "cell_type": "code",
   "execution_count": 92,
   "metadata": {
    "collapsed": true
   },
   "outputs": [],
   "source": [
    "\n",
    "# Each image is made up a series of traits\n",
    "# The weightings for each trait drive the rarity and add up to 100%\n",
    "\n",
    "background = [\"Ocean 1\", \"Ocean 2\", \"Ocean 3\", \"Ocean 4\", \"Ocean 5\"] \n",
    "background_weights = [30, 40, 15, 5, 10]\n",
    "\n",
    "bodies = [\"Sea Turtle 1\", \"Sea Turtle 2\", \"Sea Turtle 3\", \"Sea Turtle 4\", \"Sea Turtle 5\"] \n",
    "body_weights = [30, 40, 15, 5, 10]\n",
    "\n",
    "heads = [\"Rock Shield\", \"Bubble Cannon\", \"Ninja\", \"Trident\", \"Ice Harpoon\"] \n",
    "head_weights = [30, 40, 15, 5, 10]\n",
    "\n",
    "# Dictionary variable for each trait. \n",
    "# Eech trait corresponds to its file name\n",
    "\n",
    "background_files = {\n",
    "    \"Ocean 1\": \"ocean1\",\n",
    "    \"Ocean 2\": \"ocean2\",\n",
    "    \"Ocean 3\": \"ocean3\",\n",
    "    \"Ocean 4\": \"ocean4\",\n",
    "    \"Ocean 5\": \"ocean5\",\n",
    "}\n",
    "\n",
    "body_files = {\n",
    "    \"Sea Turtle 1\": \"SeaTurtle1\",\n",
    "    \"Sea Turtle 2\": \"SeaTurtle2\",\n",
    "    \"Sea Turtle 3\": \"SeaTurtle3\",\n",
    "    \"Sea Turtle 4\": \"SeaTurtle4\",\n",
    "    \"Sea Turtle 5\": \"SeaTurtle5\"   \n",
    "}\n",
    "\n",
    "head_files = {\n",
    "    \"Rock Shield\": \"rock-shield\",\n",
    "    \"Bubble Cannon\": \"bubble-cannon\",\n",
    "    \"Ninja\": \"ninja\",\n",
    "    \"Trident\": \"trident\",\n",
    "    \"Ice Harpoon\": \"ice-harpoon\"  \n",
    "          \n",
    "}"
   ]
  },
  {
   "cell_type": "code",
   "execution_count": 93,
   "metadata": {
    "collapsed": true
   },
   "outputs": [],
   "source": [
    "## Generate Traits\n",
    "\n",
    "TOTAL_IMAGES = 30 # Number of random unique images we want to generate\n",
    "\n",
    "all_images = [] \n",
    "\n",
    "# A recursive function to generate unique image combinations\n",
    "def create_new_image():\n",
    "    \n",
    "    new_image = {} #\n",
    "\n",
    "    # For each trait category, select a random trait based on the weightings \n",
    "    new_image [\"Background\"] = random.choices(background, background_weights)[0]\n",
    "    new_image [\"Body\"] = random.choices(bodies, body_weights)[0]\n",
    "    new_image [\"Head\"] = random.choices(heads, head_weights)[0]\n",
    "    \n",
    "    if new_image in all_images:\n",
    "        return create_new_image()\n",
    "    else:\n",
    "        return new_image\n",
    "    \n",
    "    \n",
    "# Generate the unique combinations based on trait weightings\n",
    "for i in range(TOTAL_IMAGES): \n",
    "    \n",
    "    new_trait_image = create_new_image()\n",
    "    \n",
    "    all_images.append(new_trait_image)"
   ]
  },
  {
   "cell_type": "code",
   "execution_count": 94,
   "metadata": {},
   "outputs": [
    {
     "name": "stdout",
     "output_type": "stream",
     "text": [
      "Are all images unique? True\n"
     ]
    }
   ],
   "source": [
    "\n",
    "# Returns true if all images are unique\n",
    "def all_images_unique(all_images):\n",
    "    seen = list()\n",
    "    return not any(i in seen or seen.append(i) for i in all_images)\n",
    "\n",
    "print(\"Are all images unique?\", all_images_unique(all_images))"
   ]
  },
  {
   "cell_type": "code",
   "execution_count": 95,
   "metadata": {
    "collapsed": true
   },
   "outputs": [],
   "source": [
    "# Add token Id to each image\n",
    "i = 0\n",
    "for item in all_images:\n",
    "    item[\"tokenId\"] = i\n",
    "    i = i + 1"
   ]
  },
  {
   "cell_type": "code",
   "execution_count": 96,
   "metadata": {},
   "outputs": [
    {
     "name": "stdout",
     "output_type": "stream",
     "text": [
      "[{'Background': 'Ocean 2', 'Body': 'Sea Turtle 2', 'Head': 'Bubble Cannon', 'tokenId': 0}, {'Background': 'Ocean 3', 'Body': 'Sea Turtle 5', 'Head': 'Ninja', 'tokenId': 1}, {'Background': 'Ocean 5', 'Body': 'Sea Turtle 4', 'Head': 'Rock Shield', 'tokenId': 2}, {'Background': 'Ocean 1', 'Body': 'Sea Turtle 5', 'Head': 'Bubble Cannon', 'tokenId': 3}, {'Background': 'Ocean 1', 'Body': 'Sea Turtle 3', 'Head': 'Bubble Cannon', 'tokenId': 4}, {'Background': 'Ocean 3', 'Body': 'Sea Turtle 2', 'Head': 'Bubble Cannon', 'tokenId': 5}, {'Background': 'Ocean 2', 'Body': 'Sea Turtle 2', 'Head': 'Rock Shield', 'tokenId': 6}, {'Background': 'Ocean 2', 'Body': 'Sea Turtle 2', 'Head': 'Ninja', 'tokenId': 7}, {'Background': 'Ocean 4', 'Body': 'Sea Turtle 3', 'Head': 'Ice Harpoon', 'tokenId': 8}, {'Background': 'Ocean 5', 'Body': 'Sea Turtle 5', 'Head': 'Ninja', 'tokenId': 9}, {'Background': 'Ocean 2', 'Body': 'Sea Turtle 1', 'Head': 'Rock Shield', 'tokenId': 10}, {'Background': 'Ocean 3', 'Body': 'Sea Turtle 1', 'Head': 'Rock Shield', 'tokenId': 11}, {'Background': 'Ocean 2', 'Body': 'Sea Turtle 1', 'Head': 'Ninja', 'tokenId': 12}, {'Background': 'Ocean 1', 'Body': 'Sea Turtle 1', 'Head': 'Bubble Cannon', 'tokenId': 13}, {'Background': 'Ocean 5', 'Body': 'Sea Turtle 2', 'Head': 'Ninja', 'tokenId': 14}, {'Background': 'Ocean 4', 'Body': 'Sea Turtle 2', 'Head': 'Ninja', 'tokenId': 15}, {'Background': 'Ocean 1', 'Body': 'Sea Turtle 3', 'Head': 'Rock Shield', 'tokenId': 16}, {'Background': 'Ocean 2', 'Body': 'Sea Turtle 2', 'Head': 'Trident', 'tokenId': 17}, {'Background': 'Ocean 1', 'Body': 'Sea Turtle 1', 'Head': 'Rock Shield', 'tokenId': 18}, {'Background': 'Ocean 5', 'Body': 'Sea Turtle 1', 'Head': 'Ice Harpoon', 'tokenId': 19}, {'Background': 'Ocean 3', 'Body': 'Sea Turtle 2', 'Head': 'Rock Shield', 'tokenId': 20}, {'Background': 'Ocean 1', 'Body': 'Sea Turtle 2', 'Head': 'Rock Shield', 'tokenId': 21}, {'Background': 'Ocean 1', 'Body': 'Sea Turtle 1', 'Head': 'Trident', 'tokenId': 22}, {'Background': 'Ocean 4', 'Body': 'Sea Turtle 1', 'Head': 'Bubble Cannon', 'tokenId': 23}, {'Background': 'Ocean 1', 'Body': 'Sea Turtle 5', 'Head': 'Rock Shield', 'tokenId': 24}, {'Background': 'Ocean 5', 'Body': 'Sea Turtle 2', 'Head': 'Bubble Cannon', 'tokenId': 25}, {'Background': 'Ocean 2', 'Body': 'Sea Turtle 3', 'Head': 'Bubble Cannon', 'tokenId': 26}, {'Background': 'Ocean 3', 'Body': 'Sea Turtle 5', 'Head': 'Rock Shield', 'tokenId': 27}, {'Background': 'Ocean 3', 'Body': 'Sea Turtle 3', 'Head': 'Rock Shield', 'tokenId': 28}, {'Background': 'Ocean 2', 'Body': 'Sea Turtle 3', 'Head': 'Rock Shield', 'tokenId': 29}]\n"
     ]
    }
   ],
   "source": [
    "print(all_images)\n"
   ]
  },
  {
   "cell_type": "code",
   "execution_count": 97,
   "metadata": {},
   "outputs": [
    {
     "name": "stdout",
     "output_type": "stream",
     "text": [
      "{'Ocean 1': 8, 'Ocean 2': 8, 'Ocean 3': 6, 'Ocean 4': 3, 'Ocean 5': 5}\n",
      "{'Sea Turtle 1': 8, 'Sea Turtle 2': 10, 'Sea Turtle 3': 6, 'Sea Turtle 4': 1, 'Sea Turtle 5': 5}\n",
      "{'Rock Shield': 12, 'Bubble Cannon': 8, 'Ninja': 6, 'Trident': 2, 'Ice Harpoon': 2}\n"
     ]
    }
   ],
   "source": [
    "\n",
    "# Get Trait Counts\n",
    "\n",
    "background_count = {}\n",
    "for item in background:\n",
    "    background_count[item] = 0\n",
    "    \n",
    "body_count = {}\n",
    "for item in bodies:\n",
    "    body_count[item] = 0\n",
    "\n",
    "head_count = {}\n",
    "for item in heads:\n",
    "    head_count[item] = 0\n",
    "\n",
    "for image in all_images:\n",
    "    background_count[image[\"Background\"]] += 1\n",
    "    body_count[image[\"Body\"]] += 1\n",
    "    head_count[image[\"Head\"]] += 1\n",
    "    \n",
    "print(background_count)\n",
    "print(body_count)\n",
    "print(head_count)"
   ]
  },
  {
   "cell_type": "code",
   "execution_count": 98,
   "metadata": {
    "collapsed": true
   },
   "outputs": [],
   "source": [
    "#### Generate Metadata for all Traits \n",
    "METADATA_FILE_NAME = './metadata/all-traits.json'; \n",
    "with open(METADATA_FILE_NAME, 'w') as outfile:\n",
    "    json.dump(all_images, outfile, indent=4)"
   ]
  },
  {
   "cell_type": "code",
   "execution_count": 99,
   "metadata": {
    "collapsed": true
   },
   "outputs": [],
   "source": [
    "#### Generate Images    \n",
    "for item in all_images:\n",
    "\n",
    "    im1 = Image.open(f'./trait-layers/backgrounds/{background_files[item[\"Background\"]]}.jpg').convert('RGBA')\n",
    "    im2 = Image.open(f'./trait-layers/bodies/{body_files[item[\"Body\"]]}.png').convert('RGBA')\n",
    "    im3 = Image.open(f'./trait-layers/heads/{head_files[item[\"Head\"]]}.png').convert('RGBA')\n",
    "\n",
    "    #Create each composite\n",
    "    com1 = Image.alpha_composite(im1, im2)\n",
    "    com2 = Image.alpha_composite(com1, im3)\n",
    "\n",
    "    #Convert to RGB\n",
    "    rgb_im = com2.convert('RGB')\n",
    "    file_name = str(item[\"tokenId\"]) + \".png\"\n",
    "    rgb_im.save(\"./images/\" + file_name)"
   ]
  },
  {
   "cell_type": "code",
   "execution_count": 100,
   "metadata": {
    "collapsed": true
   },
   "outputs": [],
   "source": [
    "#### Generate Metadata for each Image    \n",
    "\n",
    "f = open('./metadata/all-traits.json',) \n",
    "data = json.load(f)\n",
    "\n",
    "\n",
    "IMAGES_BASE_URI = \"ADD_IMAGES_BASE_URI_HERE\"\n",
    "PROJECT_NAME = \"ADD_PROJECT_NAME_HERE\"\n",
    "\n",
    "def getAttribute(key, value):\n",
    "    return {\n",
    "        \"trait_type\": key,\n",
    "        \"value\": value\n",
    "    }\n",
    "for i in data:\n",
    "    token_id = i['tokenId']\n",
    "    token = {\n",
    "        \"image\": IMAGES_BASE_URI + str(token_id) + '.png',\n",
    "        \"tokenId\": token_id,\n",
    "        \"name\": PROJECT_NAME + ' ' + str(token_id),\n",
    "        \"attributes\": []\n",
    "    }\n",
    "    token[\"attributes\"].append(getAttribute(\"Background\", i[\"Background\"]))\n",
    "    token[\"attributes\"].append(getAttribute(\"Body\", i[\"Body\"]))\n",
    "    token[\"attributes\"].append(getAttribute(\"Head\", i[\"Head\"]))\n",
    "\n",
    "    with open('./metadata/' + str(token_id), 'w') as outfile:\n",
    "        json.dump(token, outfile, indent=4)\n",
    "f.close()"
   ]
  },
  {
   "cell_type": "code",
   "execution_count": null,
   "metadata": {
    "collapsed": true
   },
   "outputs": [],
   "source": []
  },
  {
   "cell_type": "code",
   "execution_count": null,
   "metadata": {
    "collapsed": true
   },
   "outputs": [],
   "source": []
  }
 ],
 "metadata": {
  "kernelspec": {
   "display_name": "Python 3",
   "language": "python",
   "name": "python3"
  },
  "language_info": {
   "codemirror_mode": {
    "name": "ipython",
    "version": 3
   },
   "file_extension": ".py",
   "mimetype": "text/x-python",
   "name": "python",
   "nbconvert_exporter": "python",
   "pygments_lexer": "ipython3",
   "version": "3.6.10"
  },
  "metadata": {
   "interpreter": {
    "hash": "b0fa6594d8f4cbf19f97940f81e996739fb7646882a419484c72d19e05852a7e"
   }
  }
 },
 "nbformat": 4,
 "nbformat_minor": 2
}
